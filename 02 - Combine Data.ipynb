{
 "cells": [
  {
   "cell_type": "code",
   "execution_count": 1,
   "metadata": {
    "collapsed": true
   },
   "outputs": [],
   "source": [
    "import json\n",
    "import codecs\n",
    "import pprint\n",
    "import re\n",
    "import os\n",
    "import sys\n",
    "import csv\n",
    "import glob\n",
    "import re\n",
    "import json\n",
    "import pandas as pd\n",
    "from pprint import pprint\n",
    "from pandas.io.json import json_normalize"
   ]
  },
  {
   "cell_type": "markdown",
   "metadata": {},
   "source": [
    "# Merge all Data single Data Files and Remove Duplicates"
   ]
  },
  {
   "cell_type": "code",
   "execution_count": 2,
   "metadata": {},
   "outputs": [
    {
     "name": "stdout",
     "output_type": "stream",
     "text": [
      "./data/raw/CarManufacturer/negative/\n",
      "10369\n",
      "./data/raw/CarManufacturer/positive/\n",
      "21782\n",
      "./data/raw/FastFood/negative/\n",
      "42329\n",
      "./data/raw/FastFood/positive/\n",
      "73598\n",
      "./data/raw/Movies/negative/\n",
      "128269\n",
      "./data/raw/Movies/positive/\n",
      "158513\n",
      "./data/raw/Musician/negative/\n",
      "198332\n",
      "./data/raw/Musician/positive/\n",
      "222797\n",
      "./data/raw/Series/negative/\n",
      "228981\n",
      "./data/raw/Series/positive/\n",
      "246131\n",
      "./data/raw/Soccer/negative/\n",
      "253729\n",
      "./data/raw/Soccer/positive/\n",
      "272710\n",
      "./data/raw/Technology/negative/\n",
      "285222\n",
      "./data/raw/Technology/positive/\n",
      "351070\n",
      "./data/raw/USPolitican/negative/\n",
      "355886\n",
      "./data/raw/USPolitican/positive/\n",
      "381316\n"
     ]
    }
   ],
   "source": [
    "directories = glob.glob(\"./data/raw/*/*/\")\n",
    "data = {}\n",
    "twitter_ids = []\n",
    "#print(directories)\n",
    "for directory in sorted(directories):\n",
    "    print(directory)\n",
    "    dataset_parts = directory.split('/')\n",
    "    #load all files from the directory and merge them\n",
    "    files = glob.glob(directory+\"*.json\")\n",
    "    top_topic = dataset_parts[-3]\n",
    "    twitter_attitude = dataset_parts[-2]\n",
    "    #create helper directory to store the tweets\n",
    "    #data[top_topic] = {} if top_topic not in data else data[top_topic]\n",
    "    #load all files within the specific top topic directory for each attitude\n",
    "    for file in files:\n",
    "        #extract the seed topic name from the filename\n",
    "        seed_topic = file.split('/')[-1].split('.')[0].split('_')[-1][0:-3].replace('\"','')\n",
    "        \n",
    "        #create helper directory structure to store uniquely based on tweet id\n",
    "        #data[top_topic][seed_topic] = {} if seed_topic not in data[top_topic] else data[top_topic][seed_topic]\n",
    "        #data[top_topic][seed_topic][twitter_attitude] = {} if twitter_attitude not in data[top_topic][seed_topic] else data[top_topic][seed_topic][twitter_attitude]\n",
    "\n",
    "        #open all single files, and merge them uniquely\n",
    "        with codecs.open(file,'r',encoding='utf8') as data_file:\n",
    "            json_data = json.load(data_file)\n",
    "            for key,value in json_data.iteritems():\n",
    "                #globally unique tweets\n",
    "                if key not in data:\n",
    "                    value['category'] = {\n",
    "                        \"top_topic\":top_topic,\n",
    "                        \"seed_topic\":seed_topic,\n",
    "                        \"attitude\":twitter_attitude\n",
    "                    }\n",
    "                    data[key] = value\n",
    "    print(len(data))"
   ]
  },
  {
   "cell_type": "code",
   "execution_count": 3,
   "metadata": {
    "collapsed": true
   },
   "outputs": [],
   "source": [
    "import cPickle as pickle\n",
    "with open('./data/processed/unique_all_tweets.pickle', 'wb') as f:\n",
    "    pickle.dump(data, f, 2)"
   ]
  }
 ],
 "metadata": {
  "kernelspec": {
   "display_name": "Python 3",
   "language": "python",
   "name": "python3"
  },
  "language_info": {
   "codemirror_mode": {
    "name": "ipython",
    "version": 3
   },
   "file_extension": ".py",
   "mimetype": "text/x-python",
   "name": "python",
   "nbconvert_exporter": "python",
   "pygments_lexer": "ipython3",
   "version": "3.7.1"
  }
 },
 "nbformat": 4,
 "nbformat_minor": 2
}
